{
 "cells": [
  {
   "cell_type": "code",
   "execution_count": 36,
   "id": "d545425e",
   "metadata": {},
   "outputs": [],
   "source": [
    "import json\n",
    "from matplotlib import pyplot as plt\n",
    "from collections import defaultdict\n",
    "from sklearn import linear_model\n",
    "import numpy\n",
    "import random\n",
    "import gzip\n",
    "import math"
   ]
  },
  {
   "cell_type": "code",
   "execution_count": 37,
   "id": "e74ac91e",
   "metadata": {},
   "outputs": [],
   "source": [
    "def assertFloat(x): # Checks that an answer is a float\n",
    "    assert type(float(x)) == float\n",
    "\n",
    "def assertFloatList(items, N):\n",
    "    assert len(items) == N\n",
    "    assert [type(float(x)) for x in items] == [float]*N"
   ]
  },
  {
   "cell_type": "code",
   "execution_count": 38,
   "id": "1a7911bf",
   "metadata": {},
   "outputs": [],
   "source": [
    "f = gzip.open(\"young_adult_10000.json.gz\")\n",
    "dataset = []\n",
    "for l in f:\n",
    "    dataset.append(json.loads(l))"
   ]
  },
  {
   "cell_type": "code",
   "execution_count": 39,
   "id": "85100ed3",
   "metadata": {},
   "outputs": [
    {
     "data": {
      "text/plain": [
       "10000"
      ]
     },
     "execution_count": 39,
     "metadata": {},
     "output_type": "execute_result"
    }
   ],
   "source": [
    "len(dataset)"
   ]
  },
  {
   "cell_type": "code",
   "execution_count": 40,
   "id": "e716aa89",
   "metadata": {},
   "outputs": [],
   "source": [
    "answers = {} # Put your answers to each question in this dictionary"
   ]
  },
  {
   "cell_type": "code",
   "execution_count": 41,
   "id": "cb2c286a",
   "metadata": {},
   "outputs": [
    {
     "data": {
      "text/plain": [
       "{'user_id': '8842281e1d1347389f2ab93d60773d4d',\n",
       " 'book_id': '2767052',\n",
       " 'review_id': '248c011811e945eca861b5c31a549291',\n",
       " 'rating': 5,\n",
       " 'review_text': \"I cracked and finally picked this up. Very enjoyable quick read - couldn't put it down - it was like crack. \\n I'm a bit bothered by the lack of backstory of how Panem and the Hunger Games come about. It is just kind of explained away in a few paragraphs and we are left to accept this very strange world where teenagers are pitted into an arena each year to kill each other? I was expecting it because I've seen Battle Royale, but I would have appreciated knowing more of the backstory of how the world could have come into such a odd state. \\n I suppose what makes a book like this interesting is thinking about the strategy of it all. The players are going to be statistically encouraged to band together because they will last longer that way, but by definition of course any partnership will be broken, and the drama of how that unfolds is always interesting and full of friendships broken and betrayal. Each character approached the game in their own way. Some banded together in larger coalitions, some were loners initially and banded together later. And some were just loners, like Foxface. A lot depended on your survival skill: could you find food and water on your own? Self-dependence is highly valued - and of course our hero was strong there. \\n All in all, a fun read, but I feel kind of dirty for having read it.\",\n",
       " 'date_added': 'Wed Jan 13 13:38:25 -0800 2010',\n",
       " 'date_updated': 'Wed Mar 22 11:46:36 -0700 2017',\n",
       " 'read_at': 'Sun Mar 25 00:00:00 -0700 2012',\n",
       " 'started_at': 'Fri Mar 23 00:00:00 -0700 2012',\n",
       " 'n_votes': 24,\n",
       " 'n_comments': 25}"
      ]
     },
     "execution_count": 41,
     "metadata": {},
     "output_type": "execute_result"
    }
   ],
   "source": [
    "dataset[0]"
   ]
  },
  {
   "cell_type": "code",
   "execution_count": 42,
   "id": "3593c0e7",
   "metadata": {},
   "outputs": [
    {
     "data": {
      "text/plain": [
       "1"
      ]
     },
     "execution_count": 42,
     "metadata": {},
     "output_type": "execute_result"
    }
   ],
   "source": [
    "dataset[1]['review_text'].count('!')"
   ]
  },
  {
   "cell_type": "code",
   "execution_count": 43,
   "id": "2a260695",
   "metadata": {},
   "outputs": [],
   "source": [
    "### Question 1"
   ]
  },
  {
   "cell_type": "code",
   "execution_count": 44,
   "id": "fea5f8f2",
   "metadata": {},
   "outputs": [],
   "source": [
    "def feature(datum):\n",
    "    # your implementation\n",
    "    feat = [1,datum['review_text'].count('!')]\n",
    "    return(feat)"
   ]
  },
  {
   "cell_type": "code",
   "execution_count": 45,
   "id": "8f00dea9",
   "metadata": {},
   "outputs": [
    {
     "name": "stdout",
     "output_type": "stream",
     "text": [
      "[3.68853304 3.75962323 3.68853304 ... 3.68853304 3.68853304 3.68853304]\n",
      "[3.68853304 0.07109019]\n",
      "1.5231747404538125\n"
     ]
    },
    {
     "name": "stderr",
     "output_type": "stream",
     "text": [
      "/var/folders/z9/vfndf44j0x3_0vgnjv1v5q_00000gn/T/ipykernel_1201/3474877497.py:3: FutureWarning: `rcond` parameter will change to the default of machine precision times ``max(M, N)`` where M and N are the input matrix dimensions.\n",
      "To use the future default and silence this warning we advise to pass `rcond=None`, to keep using the old, explicitly pass `rcond=-1`.\n",
      "  theta,residuals,rank,s = numpy.linalg.lstsq(X, Y)\n"
     ]
    }
   ],
   "source": [
    "X = [feature(d) for d in dataset]\n",
    "Y = [d['rating'] for d in dataset]\n",
    "theta,residuals,rank,s = numpy.linalg.lstsq(X, Y)\n",
    "\n",
    "theta0 = theta[0]\n",
    "theta1 = theta[1]\n",
    "\n",
    "def mean_squared_error(results,predictions):\n",
    "    total_results = len(results)\n",
    "\n",
    "    sum = 0\n",
    "    for i in range(0,total_results):\n",
    "        difference = predictions[i] - results[i]\n",
    "        squared_diff = difference**2\n",
    "        sum = sum + squared_diff\n",
    "    \n",
    "    MSE = sum/total_results\n",
    "\n",
    "    return MSE\n",
    "\n",
    "preds = numpy.matmul(X,theta)\n",
    "print(preds)\n",
    "print(theta)\n",
    "\n",
    "mse = mean_squared_error(Y,preds)\n",
    "\n",
    "print(mse)\n"
   ]
  },
  {
   "cell_type": "code",
   "execution_count": 46,
   "id": "51581a4f",
   "metadata": {},
   "outputs": [],
   "source": [
    "answers['Q1'] = [theta0, theta1, mse]"
   ]
  },
  {
   "cell_type": "code",
   "execution_count": 47,
   "id": "525fd954",
   "metadata": {},
   "outputs": [],
   "source": [
    "assertFloatList(answers['Q1'], 3) # Check the format of your answer (three floats)"
   ]
  },
  {
   "cell_type": "code",
   "execution_count": 48,
   "id": "8b84731b",
   "metadata": {},
   "outputs": [],
   "source": [
    "### Question 2"
   ]
  },
  {
   "cell_type": "code",
   "execution_count": 49,
   "id": "982ea2f5",
   "metadata": {},
   "outputs": [],
   "source": [
    "def feature(datum):\n",
    "    # your implementation\n",
    "    feat = [1,len(datum['review_text']),datum['review_text'].count('!')]\n",
    "    return(feat)"
   ]
  },
  {
   "cell_type": "code",
   "execution_count": 50,
   "id": "cda70702",
   "metadata": {},
   "outputs": [
    {
     "name": "stderr",
     "output_type": "stream",
     "text": [
      "/var/folders/z9/vfndf44j0x3_0vgnjv1v5q_00000gn/T/ipykernel_1201/2902886995.py:3: FutureWarning: `rcond` parameter will change to the default of machine precision times ``max(M, N)`` where M and N are the input matrix dimensions.\n",
      "To use the future default and silence this warning we advise to pass `rcond=None`, to keep using the old, explicitly pass `rcond=-1`.\n",
      "  theta,residuals,rank,s = numpy.linalg.lstsq(X, Y)\n"
     ]
    },
    {
     "name": "stdout",
     "output_type": "stream",
     "text": [
      "[3.66286163 3.78355655 3.71264943 ... 3.68338673 3.7018923  3.7079097 ]\n",
      "[ 3.71751281e+00 -4.12150653e-05  7.52759173e-02]\n",
      "1.5214029246165857\n"
     ]
    }
   ],
   "source": [
    "X = [feature(d) for d in dataset]\n",
    "Y = [d['rating'] for d in dataset]\n",
    "theta,residuals,rank,s = numpy.linalg.lstsq(X, Y)\n",
    "\n",
    "theta0 = theta[0]\n",
    "theta1 = theta[1]\n",
    "theta2 = theta[2]\n",
    "\n",
    "preds = numpy.matmul(X,theta)\n",
    "print(preds)\n",
    "print(theta)\n",
    "#print(dot[1])\n",
    "#print(X[1])\n",
    "\n",
    "mse = mean_squared_error(Y,preds)\n",
    "\n",
    "print(mse)\n"
   ]
  },
  {
   "cell_type": "code",
   "execution_count": 51,
   "id": "f099afd8",
   "metadata": {},
   "outputs": [],
   "source": [
    "answers['Q2'] = [theta0, theta1, theta2, mse]"
   ]
  },
  {
   "cell_type": "code",
   "execution_count": 52,
   "id": "31e2f9e8",
   "metadata": {},
   "outputs": [],
   "source": [
    "assertFloatList(answers['Q2'], 4)"
   ]
  },
  {
   "cell_type": "code",
   "execution_count": 53,
   "id": "1147c4f6",
   "metadata": {},
   "outputs": [],
   "source": [
    "### Question 3"
   ]
  },
  {
   "cell_type": "code",
   "execution_count": 54,
   "id": "78ef0f1e",
   "metadata": {},
   "outputs": [
    {
     "name": "stderr",
     "output_type": "stream",
     "text": [
      "/var/folders/z9/vfndf44j0x3_0vgnjv1v5q_00000gn/T/ipykernel_1201/4237799109.py:27: FutureWarning: `rcond` parameter will change to the default of machine precision times ``max(M, N)`` where M and N are the input matrix dimensions.\n",
      "To use the future default and silence this warning we advise to pass `rcond=None`, to keep using the old, explicitly pass `rcond=-1`.\n",
      "  theta1,residuals1,rank1,s1 = numpy.linalg.lstsq(X1, Y)\n",
      "/var/folders/z9/vfndf44j0x3_0vgnjv1v5q_00000gn/T/ipykernel_1201/4237799109.py:28: FutureWarning: `rcond` parameter will change to the default of machine precision times ``max(M, N)`` where M and N are the input matrix dimensions.\n",
      "To use the future default and silence this warning we advise to pass `rcond=None`, to keep using the old, explicitly pass `rcond=-1`.\n",
      "  theta2,residuals2,rank2,s2 = numpy.linalg.lstsq(X2, Y)\n",
      "/var/folders/z9/vfndf44j0x3_0vgnjv1v5q_00000gn/T/ipykernel_1201/4237799109.py:29: FutureWarning: `rcond` parameter will change to the default of machine precision times ``max(M, N)`` where M and N are the input matrix dimensions.\n",
      "To use the future default and silence this warning we advise to pass `rcond=None`, to keep using the old, explicitly pass `rcond=-1`.\n",
      "  theta3,residuals3,rank3,s3 = numpy.linalg.lstsq(X3, Y)\n",
      "/var/folders/z9/vfndf44j0x3_0vgnjv1v5q_00000gn/T/ipykernel_1201/4237799109.py:30: FutureWarning: `rcond` parameter will change to the default of machine precision times ``max(M, N)`` where M and N are the input matrix dimensions.\n",
      "To use the future default and silence this warning we advise to pass `rcond=None`, to keep using the old, explicitly pass `rcond=-1`.\n",
      "  theta4,residuals4,rank4,s4 = numpy.linalg.lstsq(X4, Y)\n",
      "/var/folders/z9/vfndf44j0x3_0vgnjv1v5q_00000gn/T/ipykernel_1201/4237799109.py:31: FutureWarning: `rcond` parameter will change to the default of machine precision times ``max(M, N)`` where M and N are the input matrix dimensions.\n",
      "To use the future default and silence this warning we advise to pass `rcond=None`, to keep using the old, explicitly pass `rcond=-1`.\n",
      "  theta5,residuals5,rank5,s5 = numpy.linalg.lstsq(X5, Y)\n"
     ]
    }
   ],
   "source": [
    "def feature(datum, deg):\n",
    "    # feature for a specific polynomial degree\n",
    "\n",
    "    exc_count = datum['review_text'].count('!')\n",
    "\n",
    "    if deg == 5:\n",
    "        feat = [1,exc_count,math.pow(exc_count,2),math.pow(exc_count,3),math.pow(exc_count,4),math.pow(exc_count,5)]\n",
    "    elif deg == 4:\n",
    "        feat = [1,exc_count,math.pow(exc_count,2),math.pow(exc_count,3),math.pow(exc_count,4)]\n",
    "    elif deg == 3:\n",
    "        feat = [1,exc_count,math.pow(exc_count,2),math.pow(exc_count,3)]\n",
    "    elif deg == 2:\n",
    "        feat = [1,exc_count,math.pow(exc_count,2)]\n",
    "    else:\n",
    "        feat = [1,exc_count]\n",
    "\n",
    "    return feat\n",
    "\n",
    "X1 = [feature(d,1) for d in dataset]\n",
    "X2 = [feature(d,2) for d in dataset]\n",
    "X3 = [feature(d,3) for d in dataset]\n",
    "X4 = [feature(d,4) for d in dataset]\n",
    "X5 = [feature(d,5) for d in dataset]\n",
    "\n",
    "Y = [d['rating'] for d in dataset]\n",
    "\n",
    "theta1,residuals1,rank1,s1 = numpy.linalg.lstsq(X1, Y)\n",
    "theta2,residuals2,rank2,s2 = numpy.linalg.lstsq(X2, Y)\n",
    "theta3,residuals3,rank3,s3 = numpy.linalg.lstsq(X3, Y)\n",
    "theta4,residuals4,rank4,s4 = numpy.linalg.lstsq(X4, Y)\n",
    "theta5,residuals5,rank5,s5 = numpy.linalg.lstsq(X5, Y)\n",
    "\n",
    "preds1 = numpy.matmul(X1,theta1)\n",
    "preds2 = numpy.matmul(X2,theta2)\n",
    "preds3 = numpy.matmul(X3,theta3)\n",
    "preds4 = numpy.matmul(X4,theta4)\n",
    "preds5 = numpy.matmul(X5,theta5)\n",
    "\n",
    "mse1 = mean_squared_error(Y,preds1)\n",
    "mse2 = mean_squared_error(Y,preds2)\n",
    "mse3 = mean_squared_error(Y,preds3)\n",
    "mse4 = mean_squared_error(Y,preds4)\n",
    "mse5 = mean_squared_error(Y,preds5)\n",
    "\n",
    "mses = [mse1, mse2, mse3, mse4, mse5]\n"
   ]
  },
  {
   "cell_type": "code",
   "execution_count": 55,
   "id": "559faac4",
   "metadata": {},
   "outputs": [],
   "source": [
    "answers['Q3'] = mses"
   ]
  },
  {
   "cell_type": "code",
   "execution_count": 56,
   "id": "bbb5da71",
   "metadata": {},
   "outputs": [],
   "source": [
    "assertFloatList(answers['Q3'], 5)# List of length 5"
   ]
  },
  {
   "cell_type": "code",
   "execution_count": 57,
   "id": "dcbb8263",
   "metadata": {},
   "outputs": [],
   "source": [
    "### Question 4"
   ]
  },
  {
   "cell_type": "code",
   "execution_count": 58,
   "id": "e91bc048",
   "metadata": {},
   "outputs": [
    {
     "name": "stderr",
     "output_type": "stream",
     "text": [
      "/var/folders/z9/vfndf44j0x3_0vgnjv1v5q_00000gn/T/ipykernel_1201/2917416231.py:15: FutureWarning: `rcond` parameter will change to the default of machine precision times ``max(M, N)`` where M and N are the input matrix dimensions.\n",
      "To use the future default and silence this warning we advise to pass `rcond=None`, to keep using the old, explicitly pass `rcond=-1`.\n",
      "  theta1,residuals1,rank1,s1 = numpy.linalg.lstsq(X1, Y)\n",
      "/var/folders/z9/vfndf44j0x3_0vgnjv1v5q_00000gn/T/ipykernel_1201/2917416231.py:16: FutureWarning: `rcond` parameter will change to the default of machine precision times ``max(M, N)`` where M and N are the input matrix dimensions.\n",
      "To use the future default and silence this warning we advise to pass `rcond=None`, to keep using the old, explicitly pass `rcond=-1`.\n",
      "  theta2,residuals2,rank2,s2 = numpy.linalg.lstsq(X2, Y)\n",
      "/var/folders/z9/vfndf44j0x3_0vgnjv1v5q_00000gn/T/ipykernel_1201/2917416231.py:17: FutureWarning: `rcond` parameter will change to the default of machine precision times ``max(M, N)`` where M and N are the input matrix dimensions.\n",
      "To use the future default and silence this warning we advise to pass `rcond=None`, to keep using the old, explicitly pass `rcond=-1`.\n",
      "  theta3,residuals3,rank3,s3 = numpy.linalg.lstsq(X3, Y)\n",
      "/var/folders/z9/vfndf44j0x3_0vgnjv1v5q_00000gn/T/ipykernel_1201/2917416231.py:18: FutureWarning: `rcond` parameter will change to the default of machine precision times ``max(M, N)`` where M and N are the input matrix dimensions.\n",
      "To use the future default and silence this warning we advise to pass `rcond=None`, to keep using the old, explicitly pass `rcond=-1`.\n",
      "  theta4,residuals4,rank4,s4 = numpy.linalg.lstsq(X4, Y)\n",
      "/var/folders/z9/vfndf44j0x3_0vgnjv1v5q_00000gn/T/ipykernel_1201/2917416231.py:19: FutureWarning: `rcond` parameter will change to the default of machine precision times ``max(M, N)`` where M and N are the input matrix dimensions.\n",
      "To use the future default and silence this warning we advise to pass `rcond=None`, to keep using the old, explicitly pass `rcond=-1`.\n",
      "  theta5,residuals5,rank5,s5 = numpy.linalg.lstsq(X5, Y)\n"
     ]
    }
   ],
   "source": [
    "#print(len(dataset))\n",
    "half_datacount = int(len(dataset)/2)\n",
    "#print(half_datacount)\n",
    "training_data = dataset[:half_datacount]\n",
    "test_data = dataset[half_datacount:len(dataset)]\n",
    "\n",
    "X1 = [feature(d,1) for d in test_data]\n",
    "X2 = [feature(d,2) for d in test_data]\n",
    "X3 = [feature(d,3) for d in test_data]\n",
    "X4 = [feature(d,4) for d in test_data]\n",
    "X5 = [feature(d,5) for d in test_data]\n",
    "\n",
    "Y = [d['rating'] for d in test_data]\n",
    "\n",
    "theta1,residuals1,rank1,s1 = numpy.linalg.lstsq(X1, Y)\n",
    "theta2,residuals2,rank2,s2 = numpy.linalg.lstsq(X2, Y)\n",
    "theta3,residuals3,rank3,s3 = numpy.linalg.lstsq(X3, Y)\n",
    "theta4,residuals4,rank4,s4 = numpy.linalg.lstsq(X4, Y)\n",
    "theta5,residuals5,rank5,s5 = numpy.linalg.lstsq(X5, Y)\n",
    "\n",
    "preds1 = numpy.matmul(X1,theta1)\n",
    "preds2 = numpy.matmul(X2,theta2)\n",
    "preds3 = numpy.matmul(X3,theta3)\n",
    "preds4 = numpy.matmul(X4,theta4)\n",
    "preds5 = numpy.matmul(X5,theta5)\n",
    "\n",
    "mse1_t = mean_squared_error(Y,preds1)\n",
    "mse2_t = mean_squared_error(Y,preds2)\n",
    "mse3_t = mean_squared_error(Y,preds3)\n",
    "mse4_t = mean_squared_error(Y,preds4)\n",
    "mse5_t = mean_squared_error(Y,preds5)\n",
    "\n",
    "mses = [mse1_t, mse2_t, mse3_t, mse4_t, mse5_t]\n",
    "\n"
   ]
  },
  {
   "cell_type": "code",
   "execution_count": 59,
   "id": "fdd505ff",
   "metadata": {},
   "outputs": [],
   "source": [
    "answers['Q4'] = mses"
   ]
  },
  {
   "cell_type": "code",
   "execution_count": 60,
   "id": "d2954061",
   "metadata": {},
   "outputs": [],
   "source": [
    "assertFloatList(answers['Q4'], 5)"
   ]
  },
  {
   "cell_type": "code",
   "execution_count": 61,
   "id": "2fa286a5",
   "metadata": {},
   "outputs": [],
   "source": [
    "### Question 5"
   ]
  },
  {
   "cell_type": "code",
   "execution_count": 62,
   "id": "81dcc36d",
   "metadata": {},
   "outputs": [],
   "source": [
    "\n",
    "\n",
    "def mean_abs_error(results,predictions):\n",
    "    total_results = len(results)\n",
    "\n",
    "    sum = 0\n",
    "    for i in range(0,total_results):\n",
    "        difference = predictions[i] - results[i]\n",
    "        abs_diff = abs(difference)\n",
    "        sum = sum + abs_diff\n",
    "    \n",
    "    MAE = sum/total_results\n",
    "\n",
    "    return MAE\n",
    "\n",
    "mae1 = mean_abs_error(Y,preds1)\n",
    "mae2 = mean_abs_error(Y,preds2)\n",
    "mae3 = mean_abs_error(Y,preds3)\n",
    "mae4 = mean_abs_error(Y,preds4)\n",
    "mae5 = mean_abs_error(Y,preds5)\n"
   ]
  },
  {
   "cell_type": "code",
   "execution_count": 63,
   "id": "d0dfb399",
   "metadata": {},
   "outputs": [],
   "source": [
    "mae = mae5"
   ]
  },
  {
   "cell_type": "code",
   "execution_count": 65,
   "id": "b3a2e9b9",
   "metadata": {},
   "outputs": [],
   "source": [
    "answers['Q5'] = mae"
   ]
  },
  {
   "cell_type": "code",
   "execution_count": 66,
   "id": "d71a47ed",
   "metadata": {},
   "outputs": [],
   "source": [
    "assertFloat(answers['Q5'])"
   ]
  },
  {
   "cell_type": "code",
   "execution_count": 67,
   "id": "cf84f30c",
   "metadata": {},
   "outputs": [],
   "source": [
    "### Question 6"
   ]
  },
  {
   "cell_type": "code",
   "execution_count": 68,
   "id": "19b5b795",
   "metadata": {},
   "outputs": [],
   "source": [
    "f = open(\"beer_50000.json\")\n",
    "dataset = []\n",
    "for l in f:\n",
    "    if 'user/gender' in l:\n",
    "        dataset.append(eval(l))"
   ]
  },
  {
   "cell_type": "code",
   "execution_count": 69,
   "id": "299d4fee",
   "metadata": {},
   "outputs": [
    {
     "data": {
      "text/plain": [
       "20403"
      ]
     },
     "execution_count": 69,
     "metadata": {},
     "output_type": "execute_result"
    }
   ],
   "source": [
    "len(dataset)"
   ]
  },
  {
   "cell_type": "code",
   "execution_count": 70,
   "id": "8eee59d8",
   "metadata": {},
   "outputs": [],
   "source": [
    "def feature(datum):\n",
    "    # your implementation\n",
    "    feat = [1,datum['review/text'].count('!')]\n",
    "    return(feat)"
   ]
  },
  {
   "cell_type": "code",
   "execution_count": 71,
   "id": "cf95bec0",
   "metadata": {},
   "outputs": [],
   "source": [
    "X = [feature(d) for d in dataset]\n",
    "y = [\"Female\" in d['user/gender'] for d in dataset]"
   ]
  },
  {
   "cell_type": "code",
   "execution_count": 72,
   "id": "8f9ba61d",
   "metadata": {},
   "outputs": [
    {
     "data": {
      "text/plain": [
       "LogisticRegression()"
      ]
     },
     "execution_count": 72,
     "metadata": {},
     "output_type": "execute_result"
    }
   ],
   "source": [
    "mod = linear_model.LogisticRegression(C=1.0)\n",
    "mod.fit(X, y)"
   ]
  },
  {
   "cell_type": "code",
   "execution_count": 73,
   "id": "748f5083",
   "metadata": {},
   "outputs": [
    {
     "data": {
      "text/plain": [
       "0.9849041807577317"
      ]
     },
     "execution_count": 73,
     "metadata": {},
     "output_type": "execute_result"
    }
   ],
   "source": [
    "preds = mod.predict(X) \n",
    "correct = preds == y \n",
    "sum(correct) / len(correct)"
   ]
  },
  {
   "cell_type": "code",
   "execution_count": 74,
   "id": "350212b2",
   "metadata": {},
   "outputs": [],
   "source": [
    "TP = sum([(p and l) for (p,l) in zip(preds, y)])\n",
    "FP = sum([(p and not l) for (p,l) in zip(preds, y)])\n",
    "TN = sum([(not p and not l) for (p,l) in zip(preds, y)])\n",
    "FN = sum([(not p and l) for (p,l) in zip(preds, y)])\n",
    "\n",
    "TPR = TP / (TP + FN)\n",
    "TNR = TN / (TN + FP)\n",
    "\n",
    "BER = 1 - 1/2 * (TPR + TNR)\n"
   ]
  },
  {
   "cell_type": "code",
   "execution_count": 75,
   "id": "0c35d20a",
   "metadata": {},
   "outputs": [],
   "source": [
    "answers['Q6'] = [TP, TN, FP, FN, BER]"
   ]
  },
  {
   "cell_type": "code",
   "execution_count": 76,
   "id": "9b18991a",
   "metadata": {},
   "outputs": [],
   "source": [
    "assertFloatList(answers['Q6'], 5)"
   ]
  },
  {
   "cell_type": "code",
   "execution_count": 77,
   "id": "f066f3d5",
   "metadata": {},
   "outputs": [],
   "source": [
    "### Question 7"
   ]
  },
  {
   "cell_type": "code",
   "execution_count": 78,
   "id": "d24c241f",
   "metadata": {},
   "outputs": [],
   "source": [
    "mod = linear_model.LogisticRegression(class_weight='balanced')\n",
    "mod.fit(X,y)\n",
    "preds = mod.predict(X)"
   ]
  },
  {
   "cell_type": "code",
   "execution_count": 79,
   "id": "c2c48443",
   "metadata": {},
   "outputs": [],
   "source": [
    "TP = sum([(p and l) for (p,l) in zip(preds, y)])\n",
    "FP = sum([(p and not l) for (p,l) in zip(preds, y)])\n",
    "TN = sum([(not p and not l) for (p,l) in zip(preds, y)])\n",
    "FN = sum([(not p and l) for (p,l) in zip(preds, y)])\n",
    "\n",
    "TPR = TP / (TP + FN)\n",
    "TNR = TN / (TN + FP)\n",
    "\n",
    "BER = 1 - 1/2 * (TPR + TNR)"
   ]
  },
  {
   "cell_type": "code",
   "execution_count": 80,
   "id": "0622704c",
   "metadata": {},
   "outputs": [],
   "source": [
    "answers[\"Q7\"] = [TP, TN, FP, FN, BER]"
   ]
  },
  {
   "cell_type": "code",
   "execution_count": 81,
   "id": "efb03c92",
   "metadata": {},
   "outputs": [],
   "source": [
    "assertFloatList(answers['Q7'], 5)"
   ]
  },
  {
   "cell_type": "code",
   "execution_count": 82,
   "id": "0e622c2b",
   "metadata": {},
   "outputs": [],
   "source": [
    "### Question 8"
   ]
  },
  {
   "cell_type": "code",
   "execution_count": 83,
   "id": "9b6bcea5",
   "metadata": {},
   "outputs": [],
   "source": [
    "confidences = mod.decision_function(X)\n",
    "\n",
    "sortedByConfidence = list(zip(confidences,y))\n",
    "sortedByConfidence.sort(reverse=True)\n",
    "\n",
    "sortedlabels = [x[1] for x in sortedByConfidence]\n",
    "\n",
    "retrieved = sum(preds)\n",
    "relevant = sum(y)\n",
    "intersection = sum([y and p for y,p in zip(y,preds)])\n",
    "\n",
    "# precision at 10\n",
    "p1 = sum(sortedlabels[:1]) / 1\n",
    "\n",
    "p10 = sum(sortedlabels[:10]) / 10\n",
    "\n",
    "p100 = sum(sortedlabels[:100]) / 100\n",
    "\n",
    "p1000 = sum(sortedlabels[:1000]) / 1000\n",
    "\n",
    "p10000 = sum(sortedlabels[:10000]) / 10000\n",
    "\n",
    "precisionList = [p1, p10, p100, p1000, p10000]\n",
    "\n"
   ]
  },
  {
   "cell_type": "code",
   "execution_count": 84,
   "id": "764513e1",
   "metadata": {},
   "outputs": [],
   "source": [
    "answers['Q8'] = precisionList"
   ]
  },
  {
   "cell_type": "code",
   "execution_count": 85,
   "id": "b0d7d87a",
   "metadata": {},
   "outputs": [],
   "source": [
    "assertFloatList(answers['Q8'], 5) #List of five floats"
   ]
  },
  {
   "cell_type": "code",
   "execution_count": 86,
   "id": "d557ab88",
   "metadata": {},
   "outputs": [],
   "source": [
    "f = open(\"answers_hw1.txt\", 'w') # Write your answers to a file\n",
    "f.write(str(answers) + '\\n')\n",
    "f.close()"
   ]
  }
 ],
 "metadata": {
  "interpreter": {
   "hash": "9d1f2b9dc6ac590fb1d3578e7edd064d59472f2d86a6b128e389e381c4d0910c"
  },
  "kernelspec": {
   "display_name": "Python 3.9.7 ('base')",
   "language": "python",
   "name": "python3"
  },
  "language_info": {
   "codemirror_mode": {
    "name": "ipython",
    "version": 3
   },
   "file_extension": ".py",
   "mimetype": "text/x-python",
   "name": "python",
   "nbconvert_exporter": "python",
   "pygments_lexer": "ipython3",
   "version": "3.9.7"
  }
 },
 "nbformat": 4,
 "nbformat_minor": 5
}
