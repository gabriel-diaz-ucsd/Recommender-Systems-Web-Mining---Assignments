{
 "cells": [
  {
   "cell_type": "code",
   "execution_count": 1,
   "id": "dbcb905c",
   "metadata": {},
   "outputs": [],
   "source": [
    "import numpy\n",
    "import urllib\n",
    "import scipy.optimize\n",
    "import random\n",
    "from sklearn import linear_model\n",
    "import gzip\n",
    "from collections import defaultdict"
   ]
  },
  {
   "cell_type": "code",
   "execution_count": 3,
   "id": "94e03340",
   "metadata": {},
   "outputs": [],
   "source": [
    "import warnings\n",
    "warnings.filterwarnings(\"ignore\")"
   ]
  },
  {
   "cell_type": "code",
   "execution_count": 4,
   "id": "8bbbc2fe",
   "metadata": {},
   "outputs": [],
   "source": [
    "def assertFloat(x):\n",
    "    assert type(float(x)) == float\n",
    "\n",
    "def assertFloatList(items, N):\n",
    "    assert len(items) == N\n",
    "    assert [type(float(x)) for x in items] == [float]*N"
   ]
  },
  {
   "cell_type": "code",
   "execution_count": 5,
   "id": "85c00feb",
   "metadata": {},
   "outputs": [],
   "source": [
    "f = open(\"5year.arff\", 'r')"
   ]
  },
  {
   "cell_type": "code",
   "execution_count": 6,
   "id": "6fad4389",
   "metadata": {},
   "outputs": [],
   "source": [
    "# Read and parse the data\n",
    "while not '@data' in f.readline():\n",
    "    pass\n",
    "\n",
    "dataset = []\n",
    "for l in f:\n",
    "    if '?' in l: # Missing entry\n",
    "        continue\n",
    "    l = l.split(',')\n",
    "    values = [1] + [float(x) for x in l]\n",
    "    values[-1] = values[-1] > 0 # Convert to bool\n",
    "    dataset.append(values)"
   ]
  },
  {
   "cell_type": "code",
   "execution_count": 7,
   "id": "a1c2eeb9",
   "metadata": {},
   "outputs": [
    {
     "data": {
      "text/plain": [
       "[1,\n",
       " 0.088238,\n",
       " 0.55472,\n",
       " 0.01134,\n",
       " 1.0205,\n",
       " -66.52,\n",
       " 0.34204,\n",
       " 0.10949,\n",
       " 0.57752,\n",
       " 1.0881,\n",
       " 0.32036,\n",
       " 0.10949,\n",
       " 0.1976,\n",
       " 0.096885,\n",
       " 0.10949,\n",
       " 1475.2,\n",
       " 0.24742,\n",
       " 1.8027,\n",
       " 0.10949,\n",
       " 0.077287,\n",
       " 50.199,\n",
       " 1.1574,\n",
       " 0.13523,\n",
       " 0.062287,\n",
       " 0.41949,\n",
       " 0.32036,\n",
       " 0.20912,\n",
       " 1.0387,\n",
       " 0.026093,\n",
       " 6.1267,\n",
       " 0.37788,\n",
       " 0.077287,\n",
       " 155.33,\n",
       " 2.3498,\n",
       " 0.24377,\n",
       " 0.13523,\n",
       " 1.4493,\n",
       " 571.37,\n",
       " 0.32101,\n",
       " 0.095457,\n",
       " 0.12879,\n",
       " 0.11189,\n",
       " 0.095457,\n",
       " 127.3,\n",
       " 77.096,\n",
       " 0.45289,\n",
       " 0.66883,\n",
       " 54.621,\n",
       " 0.10746,\n",
       " 0.075859,\n",
       " 1.0193,\n",
       " 0.55407,\n",
       " 0.42557,\n",
       " 0.73717,\n",
       " 0.73866,\n",
       " 15182.0,\n",
       " 0.080955,\n",
       " 0.27543,\n",
       " 0.91905,\n",
       " 0.002024,\n",
       " 7.2711,\n",
       " 4.7343,\n",
       " 142.76,\n",
       " 2.5568,\n",
       " 3.2597,\n",
       " False]"
      ]
     },
     "execution_count": 7,
     "metadata": {},
     "output_type": "execute_result"
    }
   ],
   "source": [
    "dataset[0]"
   ]
  },
  {
   "cell_type": "code",
   "execution_count": 6,
   "id": "7691e3d0",
   "metadata": {},
   "outputs": [],
   "source": [
    "X = [d[:-1] for d in dataset]\n",
    "y = [d[-1] for d in dataset]"
   ]
  },
  {
   "cell_type": "code",
   "execution_count": 7,
   "id": "03249990",
   "metadata": {},
   "outputs": [],
   "source": [
    "answers = {} # Your answers"
   ]
  },
  {
   "cell_type": "code",
   "execution_count": 8,
   "id": "a31a5b59",
   "metadata": {},
   "outputs": [],
   "source": [
    "def accuracy(predictions, y):\n",
    "    TP = sum([(p and l) for (p,l) in zip(predictions, y)])\n",
    "    FP = sum([(p and not l) for (p,l) in zip(predictions, y)])\n",
    "    TN = sum([(not p and not l) for (p,l) in zip(predictions, y)])\n",
    "    FN = sum([(not p and l) for (p,l) in zip(predictions, y)])\n",
    "\n",
    "    accuracy = (TP+TN)/(TP+FP+TN+FN)\n",
    "    \n",
    "    return accuracy"
   ]
  },
  {
   "cell_type": "code",
   "execution_count": 9,
   "id": "83974166",
   "metadata": {},
   "outputs": [],
   "source": [
    "def BER(predictions, y):\n",
    "    TP = sum([(p and l) for (p,l) in zip(predictions, y)])\n",
    "    FP = sum([(p and not l) for (p,l) in zip(predictions, y)])\n",
    "    TN = sum([(not p and not l) for (p,l) in zip(predictions, y)])\n",
    "    FN = sum([(not p and l) for (p,l) in zip(predictions, y)])\n",
    "\n",
    "    TPR = TP / (TP + FN)\n",
    "    TNR = TN / (TN + FP)\n",
    "\n",
    "    ber = 1 - 1/2 * (TPR + TNR)\n",
    "\n",
    "    return ber\n"
   ]
  },
  {
   "cell_type": "code",
   "execution_count": 10,
   "id": "5e78a6fc",
   "metadata": {},
   "outputs": [],
   "source": [
    "### Question 1"
   ]
  },
  {
   "cell_type": "code",
   "execution_count": 11,
   "id": "f59633dd",
   "metadata": {},
   "outputs": [],
   "source": [
    "mod = linear_model.LogisticRegression(C=1)\n",
    "mod.fit(X,y)\n",
    "\n",
    "pred = mod.predict(X)"
   ]
  },
  {
   "cell_type": "code",
   "execution_count": 12,
   "id": "b7f67199",
   "metadata": {},
   "outputs": [],
   "source": [
    "correct = pred == y\n",
    "\n",
    "ber1 = BER(pred,y)\n",
    "acc1 = accuracy(pred,y)"
   ]
  },
  {
   "cell_type": "code",
   "execution_count": 13,
   "id": "033a6c45",
   "metadata": {},
   "outputs": [],
   "source": [
    "answers['Q1'] = [acc1, ber1] # Accuracy and balanced error rate"
   ]
  },
  {
   "cell_type": "code",
   "execution_count": 14,
   "id": "e75988a2",
   "metadata": {},
   "outputs": [],
   "source": [
    "assertFloatList(answers['Q1'], 2)"
   ]
  },
  {
   "cell_type": "code",
   "execution_count": 15,
   "id": "30482ced",
   "metadata": {},
   "outputs": [],
   "source": [
    "### Question 2"
   ]
  },
  {
   "cell_type": "code",
   "execution_count": 16,
   "id": "bc8f8282",
   "metadata": {},
   "outputs": [],
   "source": [
    "mod = linear_model.LogisticRegression(C=1, class_weight='balanced')\n",
    "mod.fit(X,y)\n",
    "\n",
    "pred = mod.predict(X)"
   ]
  },
  {
   "cell_type": "code",
   "execution_count": 17,
   "id": "e99274d7",
   "metadata": {},
   "outputs": [],
   "source": [
    "correct = pred == y\n",
    "\n",
    "ber2 = BER(pred,y)\n",
    "acc2 = accuracy(pred,y)"
   ]
  },
  {
   "cell_type": "code",
   "execution_count": 18,
   "id": "de8d6195",
   "metadata": {},
   "outputs": [],
   "source": [
    "answers['Q2'] = [acc2, ber2]"
   ]
  },
  {
   "cell_type": "code",
   "execution_count": 19,
   "id": "8a90cd8a",
   "metadata": {},
   "outputs": [],
   "source": [
    "assertFloatList(answers['Q2'], 2)"
   ]
  },
  {
   "cell_type": "code",
   "execution_count": 20,
   "id": "e1fa1ccb",
   "metadata": {},
   "outputs": [],
   "source": [
    "### Question 3"
   ]
  },
  {
   "cell_type": "code",
   "execution_count": 21,
   "id": "55d4beff",
   "metadata": {},
   "outputs": [],
   "source": [
    "random.seed(3)\n",
    "random.shuffle(dataset)"
   ]
  },
  {
   "cell_type": "code",
   "execution_count": 22,
   "id": "d19c0c8a",
   "metadata": {},
   "outputs": [],
   "source": [
    "X = [d[:-1] for d in dataset]\n",
    "y = [d[-1] for d in dataset]"
   ]
  },
  {
   "cell_type": "code",
   "execution_count": 23,
   "id": "18d5fd88",
   "metadata": {},
   "outputs": [],
   "source": [
    "Xtrain, Xvalid, Xtest = X[:len(X)//2], X[len(X)//2:(3*len(X))//4], X[(3*len(X))//4:]\n",
    "ytrain, yvalid, ytest = y[:len(X)//2], y[len(X)//2:(3*len(X))//4], y[(3*len(X))//4:]"
   ]
  },
  {
   "cell_type": "code",
   "execution_count": 24,
   "id": "6d66f07c",
   "metadata": {},
   "outputs": [
    {
     "data": {
      "text/plain": [
       "(1515, 758, 758)"
      ]
     },
     "execution_count": 24,
     "metadata": {},
     "output_type": "execute_result"
    }
   ],
   "source": [
    "len(Xtrain), len(Xvalid), len(Xtest)"
   ]
  },
  {
   "cell_type": "code",
   "execution_count": 25,
   "id": "647021ed",
   "metadata": {},
   "outputs": [],
   "source": [
    "mod = linear_model.LogisticRegression(C=1, class_weight='balanced')\n",
    "mod.fit(Xtrain,ytrain)\n",
    "\n",
    "predTrain = mod.predict(Xtrain)\n",
    "predValid = mod.predict(Xvalid)\n",
    "predTest = mod.predict(Xtest)\n",
    "\n",
    "berTrain = BER(predTrain,ytrain)\n",
    "berValid = BER(predValid,yvalid)\n",
    "berTest = BER(predTest,ytest)\n"
   ]
  },
  {
   "cell_type": "code",
   "execution_count": 26,
   "id": "0bb40dc2",
   "metadata": {},
   "outputs": [],
   "source": [
    "answers['Q3'] = [berTrain, berValid, berTest]"
   ]
  },
  {
   "cell_type": "code",
   "execution_count": 27,
   "id": "9e0ece86",
   "metadata": {},
   "outputs": [],
   "source": [
    "assertFloatList(answers['Q3'], 3)"
   ]
  },
  {
   "cell_type": "code",
   "execution_count": 28,
   "id": "81d44cb2",
   "metadata": {},
   "outputs": [],
   "source": [
    "### Question 4"
   ]
  },
  {
   "cell_type": "code",
   "execution_count": 29,
   "id": "5ff0daca",
   "metadata": {},
   "outputs": [
    {
     "name": "stdout",
     "output_type": "stream",
     "text": [
      "0.3281320669380371\n",
      "0.31931252826775225\n",
      "0.3281320669380371\n",
      "0.3179556761646314\n",
      "0.3159203980099503\n",
      "0.3111714156490276\n",
      "0.2955030044582283\n",
      "0.29618143050978873\n",
      "0.29618143050978873\n"
     ]
    }
   ],
   "source": [
    "ls = [0.0001, 0.001, 0.01, 0.1, 1, 10, 100, 1000, 10000]\n",
    "errorTrain = [] #this is going to have the MSEtrain values of each l\n",
    "errorValid = [] #this is going to have the MSEvalid values of each l\n",
    "berList = []\n",
    "\n",
    "for l in ls:\n",
    "    model = linear_model.LogisticRegression(C=l, class_weight='balanced')\n",
    "    model.fit(Xtrain, ytrain) #fitting the model\n",
    "\n",
    "    predictValid = model.predict(Xvalid)\n",
    "\n",
    "\n",
    "    ber = BER(predictValid,yvalid)\n",
    "    berList.append(ber)\n",
    "\n",
    "    print(ber)\n"
   ]
  },
  {
   "cell_type": "code",
   "execution_count": 30,
   "id": "3c96b655",
   "metadata": {},
   "outputs": [],
   "source": [
    "answers['Q4'] = berList"
   ]
  },
  {
   "cell_type": "code",
   "execution_count": 31,
   "id": "f55f3d6e",
   "metadata": {},
   "outputs": [],
   "source": [
    "assertFloatList(answers['Q4'], 9)"
   ]
  },
  {
   "cell_type": "code",
   "execution_count": 32,
   "id": "8b455b96",
   "metadata": {},
   "outputs": [],
   "source": [
    "### Question 5"
   ]
  },
  {
   "cell_type": "code",
   "execution_count": 33,
   "id": "2a80d25e",
   "metadata": {},
   "outputs": [
    {
     "name": "stdout",
     "output_type": "stream",
     "text": [
      "100\n",
      "0.2955030044582283\n"
     ]
    }
   ],
   "source": [
    "#bestModel = None\n",
    "bestVal = None\n",
    "bestLamb = None\n",
    "\n",
    "ls = [0.0001, 0.001, 0.01, 0.1, 1, 10, 100, 1000, 10000]\n",
    "errorTrain = [] #this is going to have the MSEtrain values of each l\n",
    "errorValid = [] #this is going to have the MSEvalid values of each l\n",
    "\n",
    "for l in ls:\n",
    "    model = linear_model.LogisticRegression(C=l, class_weight='balanced')\n",
    "    model.fit(Xtrain, ytrain) #fitting the model\n",
    "\n",
    "    predictValid = model.predict(Xvalid)\n",
    "\n",
    "\n",
    "    ber = BER(predictValid,yvalid)\n",
    "\n",
    "    predictTest = model.predict(Xtest)\n",
    "    ber_test = BER(predictTest,ytest)\n",
    "\n",
    "    #print(\"l = \" + str(l) + \", BER = \" + str(ber))\n",
    "    if bestVal == None or ber < bestVal:\n",
    "        bestVal = ber\n",
    "        #bestModel = model\n",
    "        bestLamb = l\n",
    "\n",
    "bestC = bestLamb\n",
    "ber5 = bestVal\n",
    "\n",
    "print(bestC)\n",
    "print(ber5)"
   ]
  },
  {
   "cell_type": "code",
   "execution_count": 34,
   "id": "62bdaa25",
   "metadata": {},
   "outputs": [],
   "source": [
    "answers['Q5'] = [bestC, ber5]"
   ]
  },
  {
   "cell_type": "code",
   "execution_count": 35,
   "id": "b8cafe6e",
   "metadata": {},
   "outputs": [],
   "source": [
    "assertFloatList(answers['Q5'], 2)"
   ]
  },
  {
   "cell_type": "code",
   "execution_count": 36,
   "id": "fcbc2e08",
   "metadata": {},
   "outputs": [],
   "source": [
    "### Question 6"
   ]
  },
  {
   "cell_type": "code",
   "execution_count": 37,
   "id": "ace19c30",
   "metadata": {},
   "outputs": [],
   "source": [
    "f = gzip.open(\"young_adult_10000.json.gz\")\n",
    "dataset = []\n",
    "for l in f:\n",
    "    dataset.append(eval(l))"
   ]
  },
  {
   "cell_type": "code",
   "execution_count": 38,
   "id": "06598b0d",
   "metadata": {},
   "outputs": [],
   "source": [
    "dataTrain = dataset[:9000]\n",
    "dataTest = dataset[9000:]"
   ]
  },
  {
   "cell_type": "code",
   "execution_count": 39,
   "id": "4209458b",
   "metadata": {},
   "outputs": [],
   "source": [
    "# Some data structures you might want\n",
    "\n",
    "usersPerItem = defaultdict(set) # Maps an item to the users who rated it\n",
    "itemsPerUser = defaultdict(set) # Maps a user to the items that they rated\n",
    "reviewsPerUser = defaultdict(list) # Maps a user to the reviews they made\n",
    "reviewsPerItem = defaultdict(list) # Maps an item to its reviews\n",
    "ratingDict = {} # To retrieve a rating for a specific user/item pair\n",
    "\n",
    "for d in dataTrain:\n",
    "    user,item = d['user_id'], d['book_id']\n",
    "    usersPerItem[item].add(user)\n",
    "    itemsPerUser[user].add(item)\n",
    "    ratingDict[(user,item)] = d['rating']\n",
    "    reviewsPerUser[user].append(d)\n",
    "    reviewsPerItem[item].append(d)"
   ]
  },
  {
   "cell_type": "code",
   "execution_count": 40,
   "id": "03c90f36",
   "metadata": {},
   "outputs": [],
   "source": [
    "def Jaccard(s1, s2):\n",
    "    numer = len(s1.intersection(s2))\n",
    "    denom = len(s1.union(s2))\n",
    "    if denom == 0:\n",
    "        return 0\n",
    "    return numer / denom"
   ]
  },
  {
   "cell_type": "code",
   "execution_count": 57,
   "id": "25bfacf3",
   "metadata": {},
   "outputs": [],
   "source": [
    "def mostSimilar(i, N):\n",
    "    similarities = []\n",
    "    users = usersPerItem[i]\n",
    "    #print(type(users))\n",
    "    for j in usersPerItem:\n",
    "        if j == i: continue\n",
    "        #print(usersPerItem[j])\n",
    "        #print(users)\n",
    "        sim = Jaccard(users, usersPerItem[j])\n",
    "        #sim = Pearson(i, j) # Could use alternate similarity metrics straightforwardly\n",
    "        similarities.append((sim,j))\n",
    "    similarities.sort(reverse=True)\n",
    "    return similarities[:N]"
   ]
  },
  {
   "cell_type": "code",
   "execution_count": null,
   "id": "d6d0a380",
   "metadata": {},
   "outputs": [],
   "source": []
  },
  {
   "cell_type": "code",
   "execution_count": 58,
   "id": "2652a90d",
   "metadata": {},
   "outputs": [
    {
     "name": "stdout",
     "output_type": "stream",
     "text": [
      "<class 'set'>\n"
     ]
    }
   ],
   "source": [
    "answers['Q6'] = mostSimilar('2767052', 10)"
   ]
  },
  {
   "cell_type": "code",
   "execution_count": 569,
   "id": "35457af6",
   "metadata": {},
   "outputs": [],
   "source": [
    "assert len(answers['Q6']) == 10\n",
    "assertFloatList([x[0] for x in answers['Q6']], 10)"
   ]
  },
  {
   "cell_type": "code",
   "execution_count": 570,
   "id": "69798ea6",
   "metadata": {},
   "outputs": [],
   "source": [
    "### Question 7"
   ]
  },
  {
   "cell_type": "code",
   "execution_count": 571,
   "id": "5fb4cacf",
   "metadata": {},
   "outputs": [],
   "source": [
    "ratingMean = sum([d['rating'] for d in dataTrain]) / len(dataTrain)\n",
    "\n",
    "itemAverages = {}\n",
    "    \n",
    "for i in usersPerItem:\n",
    "    rs = [ratingDict[(u,i)] for u in usersPerItem[i]]\n",
    "    itemAverages[i] = sum(rs) / len(rs)\n",
    "\n",
    "\n",
    "def predictRating(user,item):\n",
    "    ratings = []\n",
    "    simscores = []\n",
    "    for d in reviewsPerUser[user]:\n",
    "        #print(d)\n",
    "        j = d['book_id']\n",
    "        if j == item: continue\n",
    "        ratings.append(d['rating'] - itemAverages[j])\n",
    "        simscores.append(Jaccard(usersPerItem[item],usersPerItem[j]))\n",
    "    if (sum(simscores) > 0):\n",
    "        weightedRatings = [(x*y) for x,y in zip(ratings,simscores)]\n",
    "        return itemAverages[item] + sum(weightedRatings) / sum(simscores)\n",
    "    else:\n",
    "        return ratingMean\n",
    "\n",
    "\n",
    "def MSE(predictions, labels):\n",
    "    differences = [(x-y)**2 for x,y in zip(predictions,labels)]\n",
    "    return sum(differences) / len(differences)\n",
    "\n",
    "#alwaysPredictMean = [ratingMean for d in dataTest]\n",
    "simPredictions = [predictRating(d['user_id'], d['book_id']) for d in dataTest]\n",
    "\n",
    "labels = [d['rating'] for d in dataTest]\n",
    "\n",
    "\n",
    "mse7 = MSE(simPredictions,labels)"
   ]
  },
  {
   "cell_type": "code",
   "execution_count": 572,
   "id": "0e3f9a1b",
   "metadata": {},
   "outputs": [],
   "source": [
    "answers['Q7'] = mse7"
   ]
  },
  {
   "cell_type": "code",
   "execution_count": 573,
   "id": "f7d294f2",
   "metadata": {},
   "outputs": [],
   "source": [
    "assertFloat(answers['Q7'])"
   ]
  },
  {
   "cell_type": "code",
   "execution_count": 574,
   "id": "088d0836",
   "metadata": {},
   "outputs": [],
   "source": [
    "### Question 8"
   ]
  },
  {
   "cell_type": "code",
   "execution_count": 575,
   "id": "781abe2c",
   "metadata": {},
   "outputs": [],
   "source": [
    "\n",
    "ratingMean = sum([d['rating'] for d in dataTrain]) / len(dataTrain)\n",
    "\n",
    "def predictRating(user,item):\n",
    "    ratings = []\n",
    "    simscores = []\n",
    "    for d in reviewsPerUser[user]:\n",
    "        #print(d)\n",
    "        j = d['book_id']\n",
    "        if j == item: continue\n",
    "        ratings.append(d['rating'] - itemAverages[j])\n",
    "        simscores.append(Jaccard(itemsPerUser[user],itemsPerUser[j]))\n",
    "    if (sum(simscores) > 0):\n",
    "        weightedRatings = [(x*y) for x,y in zip(ratings,simscores)]\n",
    "        return itemAverages[user] + sum(weightedRatings) / sum(simscores)\n",
    "    else:\n",
    "        return ratingMean\n",
    "\n",
    "\n",
    "def MSE(predictions, labels):\n",
    "    differences = [(x-y)**2 for x,y in zip(predictions,labels)]\n",
    "    return sum(differences) / len(differences)\n",
    "\n",
    "#alwaysPredictMean = [ratingMean for d in dataTest]\n",
    "simPredictions = [predictRating(d['user_id'], d['book_id']) for d in dataTest]\n",
    "\n",
    "labels = [d['rating'] for d in dataTest]\n",
    "\n",
    "mse8 = MSE(simPredictions,labels)"
   ]
  },
  {
   "cell_type": "code",
   "execution_count": 576,
   "id": "2461deb6",
   "metadata": {},
   "outputs": [],
   "source": [
    "answers['Q8'] = mse8"
   ]
  },
  {
   "cell_type": "code",
   "execution_count": 577,
   "id": "def088ef",
   "metadata": {},
   "outputs": [],
   "source": [
    "assertFloat(answers['Q8'])"
   ]
  },
  {
   "cell_type": "code",
   "execution_count": 524,
   "id": "f534c8b8",
   "metadata": {},
   "outputs": [],
   "source": [
    "f = open(\"answers_hw2.txt\", 'w')\n",
    "f.write(str(answers) + '\\n')\n",
    "f.close()"
   ]
  },
  {
   "cell_type": "code",
   "execution_count": null,
   "id": "eb717703",
   "metadata": {},
   "outputs": [],
   "source": []
  }
 ],
 "metadata": {
  "interpreter": {
   "hash": "9d1f2b9dc6ac590fb1d3578e7edd064d59472f2d86a6b128e389e381c4d0910c"
  },
  "kernelspec": {
   "display_name": "Python 3.9.7 ('base')",
   "language": "python",
   "name": "python3"
  },
  "language_info": {
   "codemirror_mode": {
    "name": "ipython",
    "version": 3
   },
   "file_extension": ".py",
   "mimetype": "text/x-python",
   "name": "python",
   "nbconvert_exporter": "python",
   "pygments_lexer": "ipython3",
   "version": "3.9.7"
  }
 },
 "nbformat": 4,
 "nbformat_minor": 5
}
